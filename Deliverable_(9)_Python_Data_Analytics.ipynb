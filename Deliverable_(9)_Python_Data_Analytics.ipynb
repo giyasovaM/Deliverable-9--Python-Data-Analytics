{
  "nbformat": 4,
  "nbformat_minor": 0,
  "metadata": {
    "colab": {
      "provenance": []
    },
    "kernelspec": {
      "name": "python3",
      "display_name": "Python 3"
    },
    "language_info": {
      "name": "python"
    }
  },
  "cells": [
    {
      "cell_type": "markdown",
      "source": [
        "Step 1: Problem Definition\n",
        "\n",
        "The objective of this assignment is to determine a patient's risk for heart disease based on a variety of characteristics, including age, sex, blood pressure, and cholesterol levels. The output variable in this binary classification issue can either be 0 (indicating no heart disease) or 1 (indicating that heart disease is present).\n",
        "\n",
        "The dataset used is the Heart Disease dataset from the UC Irvine Machine Learning Repository. This dataset contains 303 instances with 14 attributes, including both categorical and continuous variables.\n",
        "\n"
      ],
      "metadata": {
        "id": "YdwnUn1L_Uga"
      }
    },
    {
      "cell_type": "markdown",
      "source": [
        "Step 2: Data Splitting\n",
        "\n",
        "First, the dataset should be imported and divided it into two data frames, response, and features. Then,the data should be splited into training and testing sets."
      ],
      "metadata": {
        "id": "80jt1yNI_nt0"
      }
    },
    {
      "cell_type": "code",
      "source": [
        "import pandas as pd\n",
        "from sklearn.model_selection import train_test_split\n",
        "\n",
        "\n",
        "url = 'https://archive.ics.uci.edu/ml/machine-learning-databases/heart-disease/processed.cleveland.data'\n",
        "df = pd.read_csv(url, header=None)\n",
        "\n",
        "X = df.iloc[:, :-1]\n",
        "y = df.iloc[:, -1]\n",
        "\n",
        "\n",
        "X_train, X_test, y_train, y_test = train_test_split(X, y, test_size=0.2, random_state=42)\n"
      ],
      "metadata": {
        "id": "CzHH4Lwd_4Di"
      },
      "execution_count": 5,
      "outputs": []
    },
    {
      "cell_type": "markdown",
      "source": [
        "Step 3: Model Selection, Model Fitting, and Model Evaluation\n",
        "\n",
        "The logistic regression will be used as a classification model in this step. The model will be fit to the training data, and then predictions will be generated over the test data, and the model need to be evaluated using the accuracy metric.\n"
      ],
      "metadata": {
        "id": "UBuOaBVRAM63"
      }
    },
    {
      "cell_type": "code",
      "source": [
        "\n",
        "df = df.replace('?', np.nan)\n",
        "\n",
        "df = df.astype(float)\n",
        "\n",
        "df = df.fillna(df.mean())\n",
        "\n",
        "\n",
        "model = LogisticRegression(random_state=42)\n",
        "model.fit(X_train, y_train)\n",
        "\n",
        "y_pred = model.predict(X_test)\n",
        "\n",
        "accuracy = accuracy_score(y_test, y_pred)\n",
        "print(f\"Accuracy: {accuracy}\")"
      ],
      "metadata": {
        "colab": {
          "base_uri": "https://localhost:8080/"
        },
        "id": "mPaY8Q4RAn29",
        "outputId": "7af92939-8274-439a-9d08-2295333a7a66"
      },
      "execution_count": 12,
      "outputs": [
        {
          "output_type": "stream",
          "name": "stdout",
          "text": [
            "Accuracy: 0.5573770491803278\n"
          ]
        },
        {
          "output_type": "stream",
          "name": "stderr",
          "text": [
            "/usr/local/lib/python3.10/dist-packages/sklearn/linear_model/_logistic.py:458: ConvergenceWarning: lbfgs failed to converge (status=1):\n",
            "STOP: TOTAL NO. of ITERATIONS REACHED LIMIT.\n",
            "\n",
            "Increase the number of iterations (max_iter) or scale the data as shown in:\n",
            "    https://scikit-learn.org/stable/modules/preprocessing.html\n",
            "Please also refer to the documentation for alternative solver options:\n",
            "    https://scikit-learn.org/stable/modules/linear_model.html#logistic-regression\n",
            "  n_iter_i = _check_optimize_result(\n"
          ]
        }
      ]
    },
    {
      "cell_type": "markdown",
      "source": [
        "On the test set, the model had an accuracy of 0.5573, correctly classifying 55.73% of the test occurrences."
      ],
      "metadata": {
        "id": "ROmug84_AN7t"
      }
    },
    {
      "cell_type": "markdown",
      "source": [
        "Step 4: Finals Remarks:\n",
        "In order to predict the existence of heart disease in patients, we used the Heart Disease dataset. We separated the data into training and testing sets after first dividing it into response and feature data frames. Our classification model was based on logistic regression, and when we measured the model's accuracy, we found that it was 0.5573 on the test set."
      ],
      "metadata": {
        "id": "UCl8eLqDCDhH"
      }
    }
  ]
}